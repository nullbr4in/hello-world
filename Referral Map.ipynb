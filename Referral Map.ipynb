{
 "cells": [
  {
   "cell_type": "code",
   "execution_count": 2,
   "metadata": {},
   "outputs": [],
   "source": [
    "import pandas as pd\n",
    "import pandas.io.sql as pd_sql\n",
    "from sodapy import Socrata\n",
    "import requests \n",
    "import time\n",
    "import sqlite3 as sq\n",
    "import sqlalchemy \n",
    "from bs4 import BeautifulSoup\n",
    "import json\n",
    "import numpy as np\n",
    "from tqdm import tqdm"
   ]
  },
  {
   "cell_type": "markdown",
   "metadata": {},
   "source": [
    "### DCFS referrals"
   ]
  },
  {
   "cell_type": "code",
   "execution_count": null,
   "metadata": {},
   "outputs": [],
   "source": [
    "client_dcfs = Socrata('data.lacounty.gov','7pTgt6f2oTY53aDI1jXNJoNZD')\n",
    "offset_temp = 0\n",
    "dcfs_df=pd.DataFrame()\n",
    "\n",
    "pbar = tqdm(total=64)\n",
    "\n",
    "while True:\n",
    "    results = client_dcfs.get(\"8vmx-hhtu\", limit=5000, offset=offset_temp)\n",
    "    dcfs_df_temp = pd.DataFrame.from_records(results)\n",
    "    if dcfs_df_temp.empty == True:\n",
    "        break\n",
    "    dcfs_df = dcfs_df.append(dcfs_df_temp)\n",
    "    offset_temp+=5000\n",
    "    time.sleep(1)\n",
    "    pbar.update(1)\n",
    "pbar.close()"
   ]
  },
  {
   "cell_type": "code",
   "execution_count": null,
   "metadata": {},
   "outputs": [],
   "source": [
    "dcfs_df['location'] = dcfs_df['location'].astype('str')\n",
    "conn = sq.connect(\"testReferral.db\")\n",
    "cur = conn.cursor()\n",
    "pd_sql.to_sql(dcfs_df, 't_dcfs', conn, if_exists='replace', index=False)\n",
    "conn.close()"
   ]
  },
  {
   "cell_type": "markdown",
   "metadata": {},
   "source": [
    "### Get LA City zip codes"
   ]
  },
  {
   "cell_type": "code",
   "execution_count": null,
   "metadata": {},
   "outputs": [],
   "source": [
    "# Get all zip codes in Los Angeles City (http://geohub.lacity.org/datasets/875d540d71e64b8696cc368865c2b640_0)\n",
    "url=\"https://services5.arcgis.com/7nsPwEMP38bSkCjy/arcgis/rest/services/Intersect of City Boundary and Zip Codes (LA County)/FeatureServer/0/query?where=1%3D1&outFields=ZIPCODE&outSR=4326&f=json\"\n",
    "r = requests.get(url)\n",
    "data = json.loads(r.text)\n",
    "lacity_zip = list()\n",
    "for i in range(len(data['features'])):\n",
    "    try:\n",
    "        zipcode = data['features'][i]['attributes']['ZIPCODE']\n",
    "        lacity_zip.append((i+1,zipcode))\n",
    "    except:\n",
    "        continue\n",
    "        "
   ]
  },
  {
   "cell_type": "code",
   "execution_count": null,
   "metadata": {},
   "outputs": [],
   "source": [
    "lacity_zip_df = pd.DataFrame(lacity_zip)\n",
    "lacity_zip_df.columns=['primary_key','zipcode']\n",
    "lacity_zip_df.head()"
   ]
  },
  {
   "cell_type": "code",
   "execution_count": null,
   "metadata": {},
   "outputs": [],
   "source": [
    "conn = sq.connect(\"testReferral.db\")\n",
    "pd_sql.to_sql(lacity_zip_df, 't_LAzip', conn, if_exists='replace', index=False)\n",
    "conn.close()"
   ]
  },
  {
   "cell_type": "code",
   "execution_count": null,
   "metadata": {},
   "outputs": [],
   "source": [
    "# Join DCFS and LA City by zip code to obtain LA City referrals only\n",
    "\n",
    "conn = sq.connect(\"testReferral.db\")\n",
    "cur = conn.cursor()\n",
    "\n",
    "query = '''\n",
    "        SELECT *\n",
    "        From t_dcfs\n",
    "        JOIN t_LAzip\n",
    "        ON t_dcfs.ref_zip = t_LAzip.zipcode\n",
    "'''\n",
    "\n",
    "ddf = pd.read_sql(query, conn) #183,048 rows matched"
   ]
  },
  {
   "cell_type": "code",
   "execution_count": null,
   "metadata": {},
   "outputs": [],
   "source": [
    "ddf['ref_year'] = ddf['ref_date'].map(lambda x: x.split('-')[0])\n",
    "ddf['ref_month'] = ddf['ref_date'].map(lambda x: x.split('-')[1])\n",
    "ddf = ddf[ddf['ref_year']==\"2016\"]\n",
    "ddf['count']=ddf['count'].astype('int')"
   ]
  },
  {
   "cell_type": "code",
   "execution_count": null,
   "metadata": {},
   "outputs": [],
   "source": [
    "# #Load the data\n",
    "\n",
    "# def loadSQL (tablename):\n",
    "#     conn = sq.connect(\"testReferral.db\")\n",
    "#     cur = conn.cursor()\n",
    "#     ddf = pd.read_sql('SELECT * FROM '+tablename, con=conn)\n",
    "#     conn.close()\n",
    "    \n",
    "# loadSQL('t_dcfs')\n",
    "# ddf.head"
   ]
  },
  {
   "cell_type": "code",
   "execution_count": null,
   "metadata": {},
   "outputs": [],
   "source": [
    "ddf.head()"
   ]
  },
  {
   "cell_type": "code",
   "execution_count": null,
   "metadata": {},
   "outputs": [],
   "source": [
    "grouped = ddf['count'].astype('int').groupby(ddf['referral_response_desc'])\n",
    "grouped.sum()"
   ]
  },
  {
   "cell_type": "code",
   "execution_count": null,
   "metadata": {},
   "outputs": [],
   "source": [
    "zip_ref_total = ddf.groupby('zipcode')['count'].sum()"
   ]
  },
  {
   "cell_type": "code",
   "execution_count": null,
   "metadata": {},
   "outputs": [],
   "source": [
    "zip_ethnicity = ddf.groupby(['zipcode','ethnicity'])['count'].sum()/zip_ref_total*100"
   ]
  },
  {
   "cell_type": "code",
   "execution_count": null,
   "metadata": {},
   "outputs": [],
   "source": [
    "zip_ethnicity"
   ]
  },
  {
   "cell_type": "code",
   "execution_count": null,
   "metadata": {},
   "outputs": [],
   "source": [
    "zip_ethnicity.unstack().plot(kind='barh', stacked=True, fontsize=8)"
   ]
  },
  {
   "cell_type": "markdown",
   "metadata": {},
   "source": [
    "### Crime records"
   ]
  },
  {
   "cell_type": "code",
   "execution_count": 36,
   "metadata": {},
   "outputs": [
    {
     "name": "stdout",
     "output_type": "stream",
     "text": [
      "100000\n",
      "200000\n",
      "300000\n",
      "400000\n",
      "500000\n",
      "600000\n",
      "700000\n",
      "800000\n",
      "900000\n",
      "1000000\n",
      "1100000\n",
      "1200000\n",
      "1300000\n",
      "1400000\n",
      "1500000\n",
      "1600000\n",
      "1700000\n",
      "1800000\n",
      "1900000\n"
     ]
    }
   ],
   "source": [
    "client_crime = Socrata('data.lacity.org','7pTgt6f2oTY53aDI1jXNJoNZD')\n",
    "offset_temp = 0\n",
    "crime_df_1=pd.DataFrame()\n",
    "\n",
    "while True:\n",
    "    results = client_crime.get(\"7fvc-faax\", limit=100000, offset=offset_temp)\n",
    "    crime_df_temp = pd.DataFrame.from_records(results)\n",
    "    if crime_df_temp.empty == True:\n",
    "        break\n",
    "    crime_df_1 = crime_df_1.append(crime_df_temp)\n",
    "    offset_temp+=100000\n",
    "    print(offset_temp)\n",
    "    #time.sleep(0.1)"
   ]
  },
  {
   "cell_type": "code",
   "execution_count": 186,
   "metadata": {},
   "outputs": [],
   "source": [
    "crime_df = crime_df_1.copy()"
   ]
  },
  {
   "cell_type": "code",
   "execution_count": 201,
   "metadata": {},
   "outputs": [
    {
     "ename": "IndexError",
     "evalue": "list index out of range",
     "output_type": "error",
     "traceback": [
      "\u001b[0;31m---------------------------------------------------------------------------\u001b[0m",
      "\u001b[0;31mIndexError\u001b[0m                                Traceback (most recent call last)",
      "\u001b[0;32m<ipython-input-201-d3e1989a2b21>\u001b[0m in \u001b[0;36m<module>\u001b[0;34m()\u001b[0m\n\u001b[1;32m      1\u001b[0m \u001b[0mtemp\u001b[0m \u001b[0;34m=\u001b[0m \u001b[0mcrime_df\u001b[0m\u001b[0;34m[\u001b[0m\u001b[0;34m'location_1'\u001b[0m\u001b[0;34m]\u001b[0m\u001b[0;34m.\u001b[0m\u001b[0mastype\u001b[0m\u001b[0;34m(\u001b[0m\u001b[0;34m'str'\u001b[0m\u001b[0;34m)\u001b[0m\u001b[0;34m\u001b[0m\u001b[0m\n\u001b[0;32m----> 2\u001b[0;31m \u001b[0mtemp\u001b[0m\u001b[0;34m.\u001b[0m\u001b[0mmap\u001b[0m\u001b[0;34m(\u001b[0m\u001b[0;32mlambda\u001b[0m \u001b[0mx\u001b[0m\u001b[0;34m:\u001b[0m \u001b[0mx\u001b[0m\u001b[0;34m.\u001b[0m\u001b[0msplit\u001b[0m\u001b[0;34m(\u001b[0m\u001b[0;34m'['\u001b[0m\u001b[0;34m)\u001b[0m\u001b[0;34m[\u001b[0m\u001b[0;36m1\u001b[0m\u001b[0;34m]\u001b[0m\u001b[0;34m.\u001b[0m\u001b[0msplit\u001b[0m\u001b[0;34m(\u001b[0m\u001b[0;34m']'\u001b[0m\u001b[0;34m)\u001b[0m\u001b[0;34m[\u001b[0m\u001b[0;36m0\u001b[0m\u001b[0;34m]\u001b[0m\u001b[0;34m)\u001b[0m\u001b[0;34m\u001b[0m\u001b[0m\n\u001b[0m",
      "\u001b[0;32m~/.local/lib/python3.6/site-packages/pandas/core/series.py\u001b[0m in \u001b[0;36mmap\u001b[0;34m(self, arg, na_action)\u001b[0m\n\u001b[1;32m   2996\u001b[0m         \"\"\"\n\u001b[1;32m   2997\u001b[0m         new_values = super(Series, self)._map_values(\n\u001b[0;32m-> 2998\u001b[0;31m             arg, na_action=na_action)\n\u001b[0m\u001b[1;32m   2999\u001b[0m         return self._constructor(new_values,\n\u001b[1;32m   3000\u001b[0m                                  index=self.index).__finalize__(self)\n",
      "\u001b[0;32m~/.local/lib/python3.6/site-packages/pandas/core/base.py\u001b[0m in \u001b[0;36m_map_values\u001b[0;34m(self, mapper, na_action)\u001b[0m\n\u001b[1;32m   1002\u001b[0m \u001b[0;34m\u001b[0m\u001b[0m\n\u001b[1;32m   1003\u001b[0m         \u001b[0;31m# mapper is a function\u001b[0m\u001b[0;34m\u001b[0m\u001b[0;34m\u001b[0m\u001b[0m\n\u001b[0;32m-> 1004\u001b[0;31m         \u001b[0mnew_values\u001b[0m \u001b[0;34m=\u001b[0m \u001b[0mmap_f\u001b[0m\u001b[0;34m(\u001b[0m\u001b[0mvalues\u001b[0m\u001b[0;34m,\u001b[0m \u001b[0mmapper\u001b[0m\u001b[0;34m)\u001b[0m\u001b[0;34m\u001b[0m\u001b[0m\n\u001b[0m\u001b[1;32m   1005\u001b[0m \u001b[0;34m\u001b[0m\u001b[0m\n\u001b[1;32m   1006\u001b[0m         \u001b[0;32mreturn\u001b[0m \u001b[0mnew_values\u001b[0m\u001b[0;34m\u001b[0m\u001b[0m\n",
      "\u001b[0;32mpandas/_libs/src/inference.pyx\u001b[0m in \u001b[0;36mpandas._libs.lib.map_infer\u001b[0;34m()\u001b[0m\n",
      "\u001b[0;32m<ipython-input-201-d3e1989a2b21>\u001b[0m in \u001b[0;36m<lambda>\u001b[0;34m(x)\u001b[0m\n\u001b[1;32m      1\u001b[0m \u001b[0mtemp\u001b[0m \u001b[0;34m=\u001b[0m \u001b[0mcrime_df\u001b[0m\u001b[0;34m[\u001b[0m\u001b[0;34m'location_1'\u001b[0m\u001b[0;34m]\u001b[0m\u001b[0;34m.\u001b[0m\u001b[0mastype\u001b[0m\u001b[0;34m(\u001b[0m\u001b[0;34m'str'\u001b[0m\u001b[0;34m)\u001b[0m\u001b[0;34m\u001b[0m\u001b[0m\n\u001b[0;32m----> 2\u001b[0;31m \u001b[0mtemp\u001b[0m\u001b[0;34m.\u001b[0m\u001b[0mmap\u001b[0m\u001b[0;34m(\u001b[0m\u001b[0;32mlambda\u001b[0m \u001b[0mx\u001b[0m\u001b[0;34m:\u001b[0m \u001b[0mx\u001b[0m\u001b[0;34m.\u001b[0m\u001b[0msplit\u001b[0m\u001b[0;34m(\u001b[0m\u001b[0;34m'['\u001b[0m\u001b[0;34m)\u001b[0m\u001b[0;34m[\u001b[0m\u001b[0;36m1\u001b[0m\u001b[0;34m]\u001b[0m\u001b[0;34m.\u001b[0m\u001b[0msplit\u001b[0m\u001b[0;34m(\u001b[0m\u001b[0;34m']'\u001b[0m\u001b[0;34m)\u001b[0m\u001b[0;34m[\u001b[0m\u001b[0;36m0\u001b[0m\u001b[0;34m]\u001b[0m\u001b[0;34m)\u001b[0m\u001b[0;34m\u001b[0m\u001b[0m\n\u001b[0m",
      "\u001b[0;31mIndexError\u001b[0m: list index out of range"
     ]
    }
   ],
   "source": [
    "temp = crime_df['location_1'].astype('str')"
   ]
  },
  {
   "cell_type": "code",
   "execution_count": 223,
   "metadata": {},
   "outputs": [],
   "source": [
    "crime_df['location_1'] = crime_df['location_1'].astype('str')\n",
    "crime_df['long'] = crime_df['location_1'].map(lambda x: x.split(']')[0].split('[')[-1].split(',')[0])\n",
    "crime_df['lat'] = crime_df['location_1'].map(lambda x: x.split(']')[0].split('[')[-1].split(',')[-1])\n",
    "crime_df['year_rptd'] = crime_df['date_rptd'].map(lambda x: x.split('-')[0])\n",
    "crime_df['month_rptd'] = crime_df['date_rptd'].map(lambda x: x.split('-')[1])\n",
    "crime_df['count'] = 1\n",
    "conn = sq.connect(\"testReferral.db\")\n",
    "cur = conn.cursor()\n",
    "pd_sql.to_sql(crime_df, 't_crime', conn, if_exists='replace', index=False)\n",
    "conn.close()"
   ]
  },
  {
   "cell_type": "code",
   "execution_count": 224,
   "metadata": {},
   "outputs": [
    {
     "data": {
      "text/plain": [
       "0    2010\n",
       "1    2010\n",
       "2    2010\n",
       "3    2010\n",
       "4    2010\n",
       "Name: year_rptd, dtype: object"
      ]
     },
     "execution_count": 224,
     "metadata": {},
     "output_type": "execute_result"
    }
   ],
   "source": [
    "crime_df['year_rptd'].head()"
   ]
  },
  {
   "cell_type": "code",
   "execution_count": 3,
   "metadata": {},
   "outputs": [],
   "source": [
    "conn = sq.connect(\"testReferral.db\")\n",
    "cur = conn.cursor()\n",
    "\n",
    "query = '''\n",
    "        SELECT date_rptd, month_rptd, crm_cd, crm_cd_desc,weapon_used_cd, count, lat, long\n",
    "        FROM t_crime \n",
    "        WHERE year_rptd == 2016\n",
    "        '''\n",
    "\n",
    "cdf = pd.read_sql(query,con=conn)\n",
    "conn.close()"
   ]
  },
  {
   "cell_type": "code",
   "execution_count": 4,
   "metadata": {},
   "outputs": [
    {
     "data": {
      "text/plain": [
       "225696"
      ]
     },
     "execution_count": 4,
     "metadata": {},
     "output_type": "execute_result"
    }
   ],
   "source": [
    "len(cdf)"
   ]
  },
  {
   "cell_type": "code",
   "execution_count": 5,
   "metadata": {},
   "outputs": [],
   "source": [
    "from uszipcode import Zipcode\n",
    "from uszipcode import SearchEngine\n",
    "\n",
    "def zipcode_converter (lat, long):\n",
    "    search = SearchEngine(simple_zipcode=True)\n",
    "    result = search.by_coordinates(lat,long,radius=30,returns=1)\n",
    "    return result[0].zipcode\n"
   ]
  },
  {
   "cell_type": "code",
   "execution_count": 9,
   "metadata": {},
   "outputs": [
    {
     "data": {
      "text/plain": [
       "'90015'"
      ]
     },
     "execution_count": 9,
     "metadata": {},
     "output_type": "execute_result"
    }
   ],
   "source": [
    "zipcode_converter(34.0364,-118.2603)"
   ]
  },
  {
   "cell_type": "code",
   "execution_count": 6,
   "metadata": {},
   "outputs": [
    {
     "data": {
      "text/plain": [
       "['-118.2603', ' 34.0364']"
      ]
     },
     "execution_count": 6,
     "metadata": {},
     "output_type": "execute_result"
    }
   ],
   "source": [
    "cdf.iloc[1,5].split('[')[1].split(']')[0].split(',')"
   ]
  },
  {
   "cell_type": "code",
   "execution_count": 239,
   "metadata": {},
   "outputs": [
    {
     "data": {
      "text/plain": [
       "33.7547"
      ]
     },
     "execution_count": 239,
     "metadata": {},
     "output_type": "execute_result"
    }
   ],
   "source": [
    "float(cdf.iloc[i,6])"
   ]
  },
  {
   "cell_type": "code",
   "execution_count": 6,
   "metadata": {},
   "outputs": [
    {
     "name": "stdout",
     "output_type": "stream",
     "text": [
      "0\n",
      "20000\n",
      "list index out of range\n",
      "list index out of range\n",
      "40000\n",
      "list index out of range\n",
      "60000\n",
      "80000\n",
      "list index out of range\n",
      "list index out of range\n",
      "list index out of range\n",
      "list index out of range\n",
      "100000\n",
      "list index out of range\n",
      "120000\n",
      "list index out of range\n",
      "list index out of range\n",
      "140000\n",
      "160000\n",
      "list index out of range\n",
      "list index out of range\n",
      "list index out of range\n",
      "180000\n",
      "list index out of range\n",
      "200000\n",
      "list index out of range\n",
      "list index out of range\n",
      "list index out of range\n",
      "220000\n",
      "list index out of range\n",
      "list index out of range\n",
      "list index out of range\n"
     ]
    }
   ],
   "source": [
    "cdf['zipcode'] = 99999\n",
    "zip_list = list()\n",
    "for i in range(len(cdf)):\n",
    "    if i % 20000 == 0:\n",
    "        print(i)\n",
    "    try:\n",
    "        lat = float(cdf.iloc[i,6])\n",
    "        long = float(cdf.iloc[i,7])\n",
    "        zipcode = zipcode_converter(lat, long)\n",
    "        zip_list.append(zipcode)\n",
    "    except Exception as e:\n",
    "        print(e)\n",
    "        zip_list.append('.')\n",
    "        continue\n",
    "\n"
   ]
  },
  {
   "cell_type": "code",
   "execution_count": 32,
   "metadata": {},
   "outputs": [],
   "source": [
    "cdf['zips'] = zip_list"
   ]
  },
  {
   "cell_type": "code",
   "execution_count": 34,
   "metadata": {},
   "outputs": [],
   "source": [
    "cdf = cdf.drop(['zipcode'], axis=1)"
   ]
  },
  {
   "cell_type": "code",
   "execution_count": 35,
   "metadata": {},
   "outputs": [],
   "source": [
    "conn = sq.connect(\"testReferral.db\")\n",
    "cur = conn.cursor()\n",
    "pd_sql.to_sql(cdf, 't_crime_zip', conn, if_exists='replace', index=False)\n",
    "conn.close()"
   ]
  },
  {
   "cell_type": "code",
   "execution_count": 36,
   "metadata": {},
   "outputs": [],
   "source": [
    "# Join Crime data and LA zipcode\n",
    "conn = sq.connect(\"testReferral.db\")\n",
    "cur = conn.cursor()\n",
    "\n",
    "query = '''\n",
    "        SELECT *\n",
    "        From t_crime_zip\n",
    "        JOIN t_LAzip\n",
    "        ON t_crime_zip.zips = t_LAzip.zipcode\n",
    "'''\n",
    "\n",
    "cdf_zip = pd.read_sql(query, conn) #224,509 matched of 225,696"
   ]
  },
  {
   "cell_type": "code",
   "execution_count": 37,
   "metadata": {},
   "outputs": [
    {
     "data": {
      "text/html": [
       "<div>\n",
       "<style scoped>\n",
       "    .dataframe tbody tr th:only-of-type {\n",
       "        vertical-align: middle;\n",
       "    }\n",
       "\n",
       "    .dataframe tbody tr th {\n",
       "        vertical-align: top;\n",
       "    }\n",
       "\n",
       "    .dataframe thead th {\n",
       "        text-align: right;\n",
       "    }\n",
       "</style>\n",
       "<table border=\"1\" class=\"dataframe\">\n",
       "  <thead>\n",
       "    <tr style=\"text-align: right;\">\n",
       "      <th></th>\n",
       "      <th>date_rptd</th>\n",
       "      <th>month_rptd</th>\n",
       "      <th>crm_cd</th>\n",
       "      <th>crm_cd_desc</th>\n",
       "      <th>weapon_used_cd</th>\n",
       "      <th>count</th>\n",
       "      <th>lat</th>\n",
       "      <th>long</th>\n",
       "      <th>zips</th>\n",
       "      <th>primary_key</th>\n",
       "      <th>zipcode</th>\n",
       "    </tr>\n",
       "  </thead>\n",
       "  <tbody>\n",
       "    <tr>\n",
       "      <th>0</th>\n",
       "      <td>2016-01-30T00:00:00.000</td>\n",
       "      <td>01</td>\n",
       "      <td>626</td>\n",
       "      <td>INTIMATE PARTNER - SIMPLE ASSAULT</td>\n",
       "      <td>400</td>\n",
       "      <td>1</td>\n",
       "      <td>34.0478</td>\n",
       "      <td>-118.2502</td>\n",
       "      <td>90014</td>\n",
       "      <td>13</td>\n",
       "      <td>90014</td>\n",
       "    </tr>\n",
       "    <tr>\n",
       "      <th>1</th>\n",
       "      <td>2016-06-24T00:00:00.000</td>\n",
       "      <td>06</td>\n",
       "      <td>230</td>\n",
       "      <td>ASSAULT WITH DEADLY WEAPON, AGGRAVATED ASSAULT</td>\n",
       "      <td>400</td>\n",
       "      <td>1</td>\n",
       "      <td>34.0364</td>\n",
       "      <td>-118.2603</td>\n",
       "      <td>90015</td>\n",
       "      <td>14</td>\n",
       "      <td>90015</td>\n",
       "    </tr>\n",
       "    <tr>\n",
       "      <th>2</th>\n",
       "      <td>2016-08-03T00:00:00.000</td>\n",
       "      <td>08</td>\n",
       "      <td>624</td>\n",
       "      <td>BATTERY - SIMPLE ASSAULT</td>\n",
       "      <td>400</td>\n",
       "      <td>1</td>\n",
       "      <td>34.0449</td>\n",
       "      <td>-118.2458</td>\n",
       "      <td>90014</td>\n",
       "      <td>13</td>\n",
       "      <td>90014</td>\n",
       "    </tr>\n",
       "    <tr>\n",
       "      <th>3</th>\n",
       "      <td>2016-09-09T00:00:00.000</td>\n",
       "      <td>09</td>\n",
       "      <td>815</td>\n",
       "      <td>SEXUAL PENETRATION W/FOREIGN OBJECT</td>\n",
       "      <td>400</td>\n",
       "      <td>1</td>\n",
       "      <td>34.0516</td>\n",
       "      <td>-118.2561</td>\n",
       "      <td>90071</td>\n",
       "      <td>59</td>\n",
       "      <td>90071</td>\n",
       "    </tr>\n",
       "    <tr>\n",
       "      <th>4</th>\n",
       "      <td>2016-10-08T00:00:00.000</td>\n",
       "      <td>10</td>\n",
       "      <td>930</td>\n",
       "      <td>CRIMINAL THREATS - NO WEAPON DISPLAYED</td>\n",
       "      <td>511</td>\n",
       "      <td>1</td>\n",
       "      <td>34.0467</td>\n",
       "      <td>-118.252</td>\n",
       "      <td>90014</td>\n",
       "      <td>13</td>\n",
       "      <td>90014</td>\n",
       "    </tr>\n",
       "  </tbody>\n",
       "</table>\n",
       "</div>"
      ],
      "text/plain": [
       "                 date_rptd month_rptd crm_cd  \\\n",
       "0  2016-01-30T00:00:00.000         01    626   \n",
       "1  2016-06-24T00:00:00.000         06    230   \n",
       "2  2016-08-03T00:00:00.000         08    624   \n",
       "3  2016-09-09T00:00:00.000         09    815   \n",
       "4  2016-10-08T00:00:00.000         10    930   \n",
       "\n",
       "                                      crm_cd_desc weapon_used_cd  count  \\\n",
       "0               INTIMATE PARTNER - SIMPLE ASSAULT            400      1   \n",
       "1  ASSAULT WITH DEADLY WEAPON, AGGRAVATED ASSAULT            400      1   \n",
       "2                        BATTERY - SIMPLE ASSAULT            400      1   \n",
       "3             SEXUAL PENETRATION W/FOREIGN OBJECT            400      1   \n",
       "4          CRIMINAL THREATS - NO WEAPON DISPLAYED            511      1   \n",
       "\n",
       "        lat       long   zips  primary_key zipcode  \n",
       "0   34.0478  -118.2502  90014           13   90014  \n",
       "1   34.0364  -118.2603  90015           14   90015  \n",
       "2   34.0449  -118.2458  90014           13   90014  \n",
       "3   34.0516  -118.2561  90071           59   90071  \n",
       "4   34.0467   -118.252  90014           13   90014  "
      ]
     },
     "execution_count": 37,
     "metadata": {},
     "output_type": "execute_result"
    }
   ],
   "source": [
    "cdf_zip.head()"
   ]
  },
  {
   "cell_type": "code",
   "execution_count": 41,
   "metadata": {},
   "outputs": [
    {
     "data": {
      "text/plain": [
       "zipcode  month_rptd\n",
       "90001    01             82\n",
       "         02             63\n",
       "         03             86\n",
       "         04             57\n",
       "         05             89\n",
       "         06             95\n",
       "         07             84\n",
       "         08             74\n",
       "         09             87\n",
       "         10             84\n",
       "         11             63\n",
       "         12             77\n",
       "90002    01            275\n",
       "         02            239\n",
       "         03            248\n",
       "         04            241\n",
       "         05            279\n",
       "         06            303\n",
       "         07            305\n",
       "         08            297\n",
       "         09            266\n",
       "         10            304\n",
       "         11            259\n",
       "         12            275\n",
       "90003    01            551\n",
       "         02            433\n",
       "         03            512\n",
       "         04            525\n",
       "         05            537\n",
       "         06            583\n",
       "                      ... \n",
       "91606    07            260\n",
       "         08            278\n",
       "         09            242\n",
       "         10            219\n",
       "         11            235\n",
       "         12            258\n",
       "91607    01            138\n",
       "         02            155\n",
       "         03            121\n",
       "         04            122\n",
       "         05            129\n",
       "         06            139\n",
       "         07            147\n",
       "         08            127\n",
       "         09            149\n",
       "         10            155\n",
       "         11            169\n",
       "         12            158\n",
       "91608    01             55\n",
       "         02             43\n",
       "         03             54\n",
       "         04             55\n",
       "         05             36\n",
       "         06             36\n",
       "         07             46\n",
       "         08             67\n",
       "         09             49\n",
       "         10             46\n",
       "         11             57\n",
       "         12             53\n",
       "Name: count, Length: 1568, dtype: int64"
      ]
     },
     "execution_count": 41,
     "metadata": {},
     "output_type": "execute_result"
    }
   ],
   "source": [
    "cdf_grouped = cdf_zip.groupby(['zipcode','month_rptd'])['count'].sum()\n",
    "cdf_grouped"
   ]
  },
  {
   "cell_type": "code",
   "execution_count": null,
   "metadata": {},
   "outputs": [],
   "source": []
  }
 ],
 "metadata": {
  "kernelspec": {
   "display_name": "Python 3",
   "language": "python",
   "name": "python3"
  },
  "language_info": {
   "codemirror_mode": {
    "name": "ipython",
    "version": 3
   },
   "file_extension": ".py",
   "mimetype": "text/x-python",
   "name": "python",
   "nbconvert_exporter": "python",
   "pygments_lexer": "ipython3",
   "version": "3.6.6"
  }
 },
 "nbformat": 4,
 "nbformat_minor": 2
}
